{
 "cells": [
  {
   "cell_type": "code",
   "execution_count": 1,
   "metadata": {
    "collapsed": true
   },
   "outputs": [],
   "source": [
    "import json\n",
    "import itertools\n",
    "\n",
    "biblejson = json.load(open('bible.txt'))\n",
    "\n",
    "def cleanBible(bible):\n",
    "    for book in bible:\n",
    "        chapters = book['chapters']\n",
    "        chapterList = []\n",
    "        chapterInd = 0\n",
    "        for chap in chapters:\n",
    "            verseInds = [int(k) for k in chap[str(chapterInd+1)].keys()]\n",
    "            verseInds.sort()\n",
    "            chapterList.append([chap[str(chapterInd+1)][str(v)] for v in verseInds])\n",
    "            chapterInd += 1\n",
    "        book['cleanChap'] = chapterList\n",
    "        book['allVerses'] = list(itertools.chain.from_iterable(chapterList))\n",
    "                                 \n",
    "\n",
    "cleanBible(biblejson)"
   ]
  },
  {
   "cell_type": "code",
   "execution_count": 12,
   "metadata": {},
   "outputs": [
    {
     "ename": "ValueError",
     "evalue": "'a' is not in list",
     "output_type": "error",
     "traceback": [
      "\u001b[0;31m---------------------------------------------------------------------------\u001b[0m",
      "\u001b[0;31mValueError\u001b[0m                                Traceback (most recent call last)",
      "\u001b[0;32m<ipython-input-12-6a5413394780>\u001b[0m in \u001b[0;36m<module>\u001b[0;34m()\u001b[0m\n\u001b[0;32m----> 1\u001b[0;31m \u001b[0mbooknames\u001b[0m\u001b[0;34m.\u001b[0m\u001b[0mindex\u001b[0m\u001b[0;34m(\u001b[0m\u001b[0;34m'a'\u001b[0m\u001b[0;34m)\u001b[0m\u001b[0;34m\u001b[0m\u001b[0m\n\u001b[0m",
      "\u001b[0;31mValueError\u001b[0m: 'a' is not in list"
     ]
    }
   ],
   "source": [
    "booknames.index('a')"
   ]
  },
  {
   "cell_type": "code",
   "execution_count": 13,
   "metadata": {},
   "outputs": [
    {
     "data": {
      "text/plain": [
       "[(u'Psalms', 2461, 18),\n",
       " (u'Genesis', 1533, 0),\n",
       " (u'Jeremiah', 1364, 23),\n",
       " (u'Isaiah', 1292, 22),\n",
       " (u'Numbers', 1288, 3),\n",
       " (u'Ezekiel', 1273, 25),\n",
       " (u'Exodus', 1213, 1),\n",
       " (u'Luke', 1151, 41),\n",
       " (u'Job', 1070, 17),\n",
       " (u'Matthew', 1068, 39),\n",
       " (u'Acts', 1007, 43),\n",
       " (u'Deuteronomy', 959, 4),\n",
       " (u'1 Chronicles', 942, 12),\n",
       " (u'Proverbs', 915, 19),\n",
       " (u'John', 879, 42),\n",
       " (u'Leviticus', 859, 2),\n",
       " (u'2 Chronicles', 822, 13),\n",
       " (u'1 Kings', 817, 10),\n",
       " (u'1 Samuel', 811, 8),\n",
       " (u'2 Kings', 719, 11),\n",
       " (u'2 Samuel', 695, 9),\n",
       " (u'Mark', 675, 40),\n",
       " (u'Joshua', 658, 5),\n",
       " (u'Judges', 619, 6),\n",
       " (u'1 Corinthians', 437, 45),\n",
       " (u'Romans', 433, 44),\n",
       " (u'Nehemiah', 406, 15),\n",
       " (u'Revelation', 405, 65),\n",
       " (u'Daniel', 357, 26),\n",
       " (u'Hebrews', 303, 57),\n",
       " (u'Ezra', 280, 14),\n",
       " (u'2 Corinthians', 257, 46),\n",
       " (u'Ecclesiastes', 222, 20),\n",
       " (u'Zechariah', 211, 37),\n",
       " (u'Hosea', 197, 27),\n",
       " (u'Esther', 167, 16),\n",
       " (u'Ephesians', 155, 48),\n",
       " (u'Lamentations', 154, 24),\n",
       " (u'Galatians', 149, 47),\n",
       " (u'Amos', 146, 29),\n",
       " (u'Song of Solomon', 117, 21),\n",
       " (u'1 Timothy', 113, 53),\n",
       " (u'James', 108, 58),\n",
       " (u'Micah', 105, 32),\n",
       " (u'1 Peter', 105, 59),\n",
       " (u'Philippians', 104, 49),\n",
       " (u'Colossians', 95, 50),\n",
       " (u'1 Thessalonians', 89, 51),\n",
       " (u'Ruth', 85, 7),\n",
       " (u'2 Timothy', 83, 54),\n",
       " (u'Joel', 73, 28),\n",
       " (u'1 John', 63, 61),\n",
       " (u'2 Peter', 61, 60),\n",
       " (u'Habakkuk', 56, 34),\n",
       " (u'Malachi', 55, 38),\n",
       " (u'Zephaniah', 53, 35),\n",
       " (u'Jonah', 48, 31),\n",
       " (u'Nahum', 47, 33),\n",
       " (u'2 Thessalonians', 47, 52),\n",
       " (u'Titus', 46, 55),\n",
       " (u'Haggai', 38, 36),\n",
       " (u'Philemon', 25, 56),\n",
       " (u'Jude', 25, 64),\n",
       " (u'Obadiah', 21, 30),\n",
       " (u'3 John', 15, 63),\n",
       " (u'2 John', 13, 62)]"
      ]
     },
     "execution_count": 13,
     "metadata": {},
     "output_type": "execute_result"
    }
   ],
   "source": [
    "biblejson[0].keys()\n",
    "booknames = [book['book'] for book in biblejson]\n",
    "booklen = [(book['book'], len(book['allVerses']), booknames.index(book['book'])) for book in biblejson]\n",
    "booklen.sort(key=lambda e1: e1[1], reverse=True)\n",
    "booklen"
   ]
  },
  {
   "cell_type": "code",
   "execution_count": null,
   "metadata": {
    "collapsed": true
   },
   "outputs": [],
   "source": []
  }
 ],
 "metadata": {
  "kernelspec": {
   "display_name": "Python 2",
   "language": "python",
   "name": "python2"
  },
  "language_info": {
   "codemirror_mode": {
    "name": "ipython",
    "version": 2
   },
   "file_extension": ".py",
   "mimetype": "text/x-python",
   "name": "python",
   "nbconvert_exporter": "python",
   "pygments_lexer": "ipython2",
   "version": "2.7.13"
  }
 },
 "nbformat": 4,
 "nbformat_minor": 2
}
