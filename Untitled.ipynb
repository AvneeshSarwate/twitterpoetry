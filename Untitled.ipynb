{
 "cells": [
  {
   "cell_type": "code",
   "execution_count": 80,
   "metadata": {
    "collapsed": true
   },
   "outputs": [],
   "source": []
  },
  {
   "cell_type": "code",
   "execution_count": 70,
   "metadata": {},
   "outputs": [
    {
     "name": "stdout",
     "output_type": "stream",
     "text": [
      "Genesis\n",
      "50\n",
      "1\n",
      "1 [1, 2, 3, 4, 5, 6, 7, 8, 9, 10, 11, 12, 13, 14, 15, 16, 17, 18, 19, 20, 21, 22, 23, 24, 25]\n"
     ]
    }
   ],
   "source": [
    "# print len(biblejson), 'books'\n",
    "# print  'dict layout per book', biblejson[0].keys()\n",
    "# print 'lists of chapters', len(biblejson[0]['chapters'])\n",
    "\n",
    "\n",
    "\n",
    "print \"Genesis\"\n",
    "print len(biblejson[0]['chapters'])\n",
    "print len(biblejson[0]['chapters'][1].values())\n",
    "keys = [int(k) for k in biblejson[0]['chapters'][1][str(2)].keys()]\n",
    "keys.sort()\n",
    "print len(biblejson[0]['chapters'][0]), keys\n",
    "\n"
   ]
  },
  {
   "cell_type": "code",
   "execution_count": 84,
   "metadata": {},
   "outputs": [],
   "source": [
    "import json\n",
    "import itertools\n",
    "\n",
    "biblejson = json.load(open('bible.txt'))\n",
    "\n",
    "def cleanBible(bible):\n",
    "    for book in bible:\n",
    "        chapters = book['chapters']\n",
    "        chapterList = []\n",
    "        chapterInd = 0\n",
    "        for chap in chapters:\n",
    "            verseInds = [int(k) for k in chap[str(chapterInd+1)].keys()]\n",
    "            verseInds.sort()\n",
    "            chapterList.append([chap[str(chapterInd+1)][str(v)] for v in verseInds])\n",
    "            chapterInd += 1\n",
    "        book['cleanChap'] = chapterList\n",
    "        book['allVerses'] = list(itertools.chain.from_iterable(chapterList))\n",
    "                                 \n",
    "\n",
    "cleanBible(biblejson)"
   ]
  },
  {
   "cell_type": "code",
   "execution_count": 89,
   "metadata": {},
   "outputs": [
    {
     "name": "stdout",
     "output_type": "stream",
     "text": [
      "1510037986.73\n"
     ]
    }
   ],
   "source": [
    "import time as timemodule\n",
    "print timemodule.time()"
   ]
  },
  {
   "cell_type": "code",
   "execution_count": 87,
   "metadata": {},
   "outputs": [
    {
     "data": {
      "text/plain": [
       "66"
      ]
     },
     "execution_count": 87,
     "metadata": {},
     "output_type": "execute_result"
    }
   ],
   "source": [
    "len([len(book['allVerses']) for book in biblejson])"
   ]
  }
 ],
 "metadata": {
  "kernelspec": {
   "display_name": "Python 2",
   "language": "python",
   "name": "python2"
  },
  "language_info": {
   "codemirror_mode": {
    "name": "ipython",
    "version": 2
   },
   "file_extension": ".py",
   "mimetype": "text/x-python",
   "name": "python",
   "nbconvert_exporter": "python",
   "pygments_lexer": "ipython2",
   "version": "2.7.13"
  }
 },
 "nbformat": 4,
 "nbformat_minor": 2
}
